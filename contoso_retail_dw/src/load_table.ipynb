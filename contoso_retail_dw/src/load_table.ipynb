{
 "cells": [
  {
   "cell_type": "markdown",
   "metadata": {
    "application/vnd.databricks.v1+cell": {
     "cellMetadata": {},
     "inputWidgets": {},
     "nuid": "ee353e42-ff58-4955-9608-12865bd0950e",
     "showTitle": false,
     "title": ""
    }
   },
   "source": [
    "# Main Entry Point for a Table Load Task\n",
    "\n",
    "This default notebook is executed using Databricks Workflows as defined in resources/ingest_contoso_retail_dw_job.yml."
   ]
  },
  {
   "cell_type": "code",
   "execution_count": 0,
   "metadata": {
    "application/vnd.databricks.v1+cell": {
     "cellMetadata": {
      "byteLimit": 2048000,
      "rowLimit": 10000
     },
     "inputWidgets": {},
     "nuid": "e8d7fefc-d058-426f-9d21-81c6a05e3b30",
     "showTitle": false,
     "title": ""
    }
   },
   "outputs": [],
   "source": [
    "%pip install pyyaml\n"
   ]
  },
  {
   "cell_type": "code",
   "execution_count": 0,
   "metadata": {
    "application/vnd.databricks.v1+cell": {
     "cellMetadata": {
      "byteLimit": 2048000,
      "rowLimit": 10000
     },
     "inputWidgets": {},
     "nuid": "a3fd1be8-d6fb-4785-9585-59f0bd0038bd",
     "showTitle": false,
     "title": ""
    }
   },
   "outputs": [],
   "source": [
    "dbutils.widgets.text(\"process_id\", \"-1\", \"process_id\")\n",
    "dbutils.widgets.text(\"table\", \"person_business_entity_address\", \"table\")\n",
    "dbutils.widgets.text(\"load_type\", \"default\", \"load_type\")\n",
    "\n",
    "# stage load parameters\n",
    "dbutils.widgets.text(\"force\", \"false\", \"force\")\n",
    "dbutils.widgets.text(\"stage_merge_schema\", \"true\", \"stage_merge_schema\")\n",
    "dbutils.widgets.text(\"modified_after\", \"\", \"modified_after\")\n",
    "dbutils.widgets.text(\"modified_before\", \"\", \"modified_before\")\n",
    "\n",
    "# base load parameters\n",
    "dbutils.widgets.text(\"hold_file_if_schema_failed\", \"true\", \"hold_file_if_schema_failed\")\n",
    "dbutils.widgets.text(\"base_merge_schema\", \"true\", \"stage_merge_schema\")"
   ]
  },
  {
   "cell_type": "code",
   "execution_count": 0,
   "metadata": {
    "application/vnd.databricks.v1+cell": {
     "cellMetadata": {
      "byteLimit": 2048000,
      "rowLimit": 10000
     },
     "inputWidgets": {},
     "nuid": "3ff6b8b2-42d8-40f9-9cc7-ecb48a44cf04",
     "showTitle": false,
     "title": ""
    }
   },
   "outputs": [],
   "source": [
    "from etl import get_table, BaseTable\n",
    "import logging\n",
    "from datetime import datetime\n",
    "\n",
    "process_id:int = int(dbutils.widgets.get(\"process_id\"))\n",
    "table:str = dbutils.widgets.get(\"table\")\n",
    "load_type:str = dbutils.widgets.get(\"load_type\")\n",
    "force:bool = (dbutils.widgets.get(\"force\") == \"true\")\n",
    "stage_merge_schema:bool = (dbutils.widgets.get(\"stage_merge_schema\") == \"true\")\n",
    "# if true the entire file will be held at stage if it has schema errors.\n",
    "hold_file_if_schema_failed:bool = (dbutils.widgets.get(\"hold_file_if_schema_failed\") == \"true\")\n",
    "base_merge_schema:bool = (dbutils.widgets.get(\"base_merge_schema\") == \"true\")\n",
    "\n",
    "modified_after = dbutils.widgets.get(\"modified_after\")\n",
    "modified_after = datetime.strptime(modified_after, \"%Y-%m-%d %H:%M:%S\") if modified_after else None\n",
    "\n",
    "modified_before = dbutils.widgets.get(\"modified_before\")\n",
    "modified_before = datetime.strptime(modified_before, \"%Y-%m-%d %H:%M:%S\") if modified_before else None\n",
    "\n",
    "table = get_table(spark = spark, table = table, load_type = load_type)\n",
    "logger = logging.getLogger(f\"load_table(table = {table.name}, load_type = {load_type}), process_id = {process_id}\")"
   ]
  },
  {
   "cell_type": "code",
   "execution_count": 0,
   "metadata": {
    "application/vnd.databricks.v1+cell": {
     "cellMetadata": {
      "byteLimit": 2048000,
      "rowLimit": 10000
     },
     "inputWidgets": {},
     "nuid": "5002250c-8795-444c-8579-30b040d454d4",
     "showTitle": false,
     "title": ""
    }
   },
   "outputs": [],
   "source": [
    "\n",
    "catalog = f\"{table.environment}_hub\"\n",
    "spark.sql(f\"use catalog {catalog}\")\n",
    "logger.info(f\"default catalog set to {catalog}\")"
   ]
  },
  {
   "cell_type": "code",
   "execution_count": 0,
   "metadata": {
    "application/vnd.databricks.v1+cell": {
     "cellMetadata": {
      "byteLimit": 2048000,
      "rowLimit": 10000
     },
     "inputWidgets": {},
     "nuid": "e73a1214-972a-4064-a067-b59b53c7d28b",
     "showTitle": false,
     "title": ""
    }
   },
   "outputs": [],
   "source": [
    "table.stage_into(\n",
    "    process_id = process_id, \n",
    "    merge_schema = stage_merge_schema, \n",
    "    force = force,\n",
    "    modified_after = modified_after,\n",
    "    modified_before = modified_before\n",
    ")"
   ]
  },
  {
   "cell_type": "code",
   "execution_count": 0,
   "metadata": {
    "application/vnd.databricks.v1+cell": {
     "cellMetadata": {
      "byteLimit": 2048000,
      "rowLimit": 10000
     },
     "inputWidgets": {},
     "nuid": "f40fcfe9-3d69-4cab-98c0-6d8f82d4fea1",
     "showTitle": false,
     "title": ""
    }
   },
   "outputs": [],
   "source": [
    "df = table.load_audit(process_id = process_id)\n",
    "if df:\n",
    "  display(df)"
   ]
  },
  {
   "cell_type": "code",
   "execution_count": 0,
   "metadata": {
    "application/vnd.databricks.v1+cell": {
     "cellMetadata": {
      "byteLimit": 2048000,
      "rowLimit": 10000
     },
     "inputWidgets": {},
     "nuid": "4232d1ce-3bb8-434a-b311-54ea8dbbcdf6",
     "showTitle": false,
     "title": ""
    }
   },
   "outputs": [],
   "source": [
    "df = table.extract(\n",
    "  process_id=process_id, \n",
    "  hold_file_if_schema_failed=hold_file_if_schema_failed\n",
    ")"
   ]
  },
  {
   "cell_type": "code",
   "execution_count": 0,
   "metadata": {
    "application/vnd.databricks.v1+cell": {
     "cellMetadata": {
      "byteLimit": 2048000,
      "rowLimit": 10000
     },
     "inputWidgets": {},
     "nuid": "04d018e9-3d5d-442f-afea-e17fdd35c392",
     "showTitle": false,
     "title": ""
    }
   },
   "outputs": [],
   "source": [
    "df = table.transform(df=df)"
   ]
  },
  {
   "cell_type": "code",
   "execution_count": 0,
   "metadata": {
    "application/vnd.databricks.v1+cell": {
     "cellMetadata": {
      "byteLimit": 2048000,
      "rowLimit": 10000
     },
     "inputWidgets": {},
     "nuid": "022a5bc9-7c88-4506-a451-7e1deec1223a",
     "showTitle": false,
     "title": ""
    }
   },
   "outputs": [],
   "source": [
    "df = table.load(df=df)\n",
    "display(df)"
   ]
  },
  {
   "cell_type": "code",
   "execution_count": 0,
   "metadata": {
    "application/vnd.databricks.v1+cell": {
     "cellMetadata": {
      "byteLimit": 2048000,
      "rowLimit": 10000
     },
     "inputWidgets": {},
     "nuid": "fe5c8842-739d-4647-9c62-9bf743bda4f8",
     "showTitle": false,
     "title": ""
    }
   },
   "outputs": [],
   "source": [
    "dbutils.notebook.exit(f\"load_table {catalog}.{table.db}.{table.name} succeeded with process_id = {process_id}\")"
   ]
  },
  {
   "cell_type": "code",
   "execution_count": 0,
   "metadata": {
    "application/vnd.databricks.v1+cell": {
     "cellMetadata": {
      "byteLimit": 2048000,
      "rowLimit": 10000
     },
     "inputWidgets": {},
     "nuid": "588c050f-2fcb-4490-b8f9-8020e98d1c26",
     "showTitle": false,
     "title": ""
    }
   },
   "outputs": [],
   "source": [
    "\n",
    "# from etl.utils import convert_schema, FileTypes\n",
    "\n",
    "# convert_schema(\"../schema/\")"
   ]
  }
 ],
 "metadata": {
  "application/vnd.databricks.v1+notebook": {
   "dashboards": [],
   "language": "python",
   "notebookMetadata": {
    "mostRecentlyExecutedCommandWithImplicitDF": {
     "commandId": 2193794341780608,
     "dataframes": [
      "_sqldf"
     ]
    },
    "pythonIndentUnit": 2
   },
   "notebookName": "load_table",
   "widgets": {
    "base_merge_schema": {
     "currentValue": "true",
     "nuid": "f424805c-5eac-415e-af8b-f1465c9137db",
     "widgetInfo": {
      "widgetType": "text",
      "defaultValue": "true",
      "label": "stage_merge_schema",
      "name": "base_merge_schema",
      "options": {
       "widgetType": "text",
       "autoCreated": null,
       "validationRegex": null
      }
     }
    },
    "force": {
     "currentValue": "true",
     "nuid": "dd4fa697-83a5-48da-9f52-ed3c1ad96051",
     "widgetInfo": {
      "widgetType": "text",
      "defaultValue": "false",
      "label": "force",
      "name": "force",
      "options": {
       "widgetType": "text",
       "autoCreated": null,
       "validationRegex": null
      }
     }
    },
    "hold_file_if_schema_failed": {
     "currentValue": "true",
     "nuid": "731e34b8-9c1d-49f6-9ef7-05f664a9343f",
     "widgetInfo": {
      "widgetType": "text",
      "defaultValue": "true",
      "label": "hold_file_if_schema_failed",
      "name": "hold_file_if_schema_failed",
      "options": {
       "widgetType": "text",
       "autoCreated": null,
       "validationRegex": null
      }
     }
    },
    "load_type": {
     "currentValue": "default",
     "nuid": "e378f96f-85fb-44f7-846a-2d21b35e82ef",
     "widgetInfo": {
      "widgetType": "text",
      "defaultValue": "default",
      "label": "load_type",
      "name": "load_type",
      "options": {
       "widgetType": "text",
       "autoCreated": null,
       "validationRegex": null
      }
     }
    },
    "modified_after": {
     "currentValue": "",
     "nuid": "6ad39867-acc6-4495-af45-4813c416781d",
     "widgetInfo": {
      "widgetType": "text",
      "defaultValue": "",
      "label": "modified_after",
      "name": "modified_after",
      "options": {
       "widgetType": "text",
       "autoCreated": null,
       "validationRegex": null
      }
     }
    },
    "modified_before": {
     "currentValue": "",
     "nuid": "0d48dbcd-28d6-4856-8e5d-8a790dc2e9d2",
     "widgetInfo": {
      "widgetType": "text",
      "defaultValue": "",
      "label": "modified_before",
      "name": "modified_before",
      "options": {
       "widgetType": "text",
       "autoCreated": null,
       "validationRegex": null
      }
     }
    },
    "process_id": {
     "currentValue": "-1",
     "nuid": "c083482c-80c2-495a-bead-3e2d71ce5911",
     "widgetInfo": {
      "widgetType": "text",
      "defaultValue": "-1",
      "label": "process_id",
      "name": "process_id",
      "options": {
       "widgetType": "text",
       "autoCreated": null,
       "validationRegex": null
      }
     }
    },
    "stage_merge_schema": {
     "currentValue": "true",
     "nuid": "2ebb4fe2-458a-44d3-bf21-b9d2db7ec742",
     "widgetInfo": {
      "widgetType": "text",
      "defaultValue": "true",
      "label": "stage_merge_schema",
      "name": "stage_merge_schema",
      "options": {
       "widgetType": "text",
       "autoCreated": null,
       "validationRegex": null
      }
     }
    },
    "table": {
     "currentValue": "production_product_document",
     "nuid": "59ed44c8-42de-4e67-b5c7-43baaf420ac3",
     "widgetInfo": {
      "widgetType": "text",
      "defaultValue": "person_business_entity_address",
      "label": "table",
      "name": "table",
      "options": {
       "widgetType": "text",
       "autoCreated": null,
       "validationRegex": null
      }
     }
    }
   }
  },
  "kernelspec": {
   "display_name": "Python 3",
   "language": "python",
   "name": "python3"
  },
  "language_info": {
   "name": "python",
   "version": "3.11.4"
  }
 },
 "nbformat": 4,
 "nbformat_minor": 0
}
