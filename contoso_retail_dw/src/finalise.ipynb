{
 "cells": [
  {
   "cell_type": "code",
   "execution_count": 0,
   "metadata": {
    "application/vnd.databricks.v1+cell": {
     "cellMetadata": {
      "byteLimit": 2048000,
      "rowLimit": 10000
     },
     "inputWidgets": {},
     "nuid": "bda78203-a549-461e-9f53-f6247d0bc378",
     "showTitle": false,
     "title": ""
    }
   },
   "outputs": [],
   "source": [
    "%pip install pyyaml"
   ]
  },
  {
   "cell_type": "code",
   "execution_count": 0,
   "metadata": {
    "application/vnd.databricks.v1+cell": {
     "cellMetadata": {
      "byteLimit": 2048000,
      "rowLimit": 10000
     },
     "inputWidgets": {},
     "nuid": "5770a604-0d51-4994-a13d-fbefd7e0c872",
     "showTitle": false,
     "title": ""
    }
   },
   "outputs": [],
   "source": [
    "dbutils.widgets.text(\"process_id\", \"-1\", \"process_id\")\n",
    "dbutils.widgets.text(\"hold_file_if_schema_failed\", \"true\", \"hold_file_if_schema_failed\")"
   ]
  },
  {
   "cell_type": "code",
   "execution_count": 0,
   "metadata": {
    "application/vnd.databricks.v1+cell": {
     "cellMetadata": {
      "byteLimit": 2048000,
      "rowLimit": 10000
     },
     "inputWidgets": {},
     "nuid": "523c2c65-c65d-482f-aad6-7133dcad4ee6",
     "showTitle": false,
     "title": ""
    }
   },
   "outputs": [],
   "source": [
    "process_id = int(dbutils.widgets.get(\"process_id\"))\n",
    "hold_file_if_schema_failed:bool = (dbutils.widgets.get(\"hold_file_if_schema_failed\") == \"true\")"
   ]
  },
  {
   "cell_type": "code",
   "execution_count": 0,
   "metadata": {
    "application/vnd.databricks.v1+cell": {
     "cellMetadata": {
      "byteLimit": 2048000,
      "rowLimit": 10000
     },
     "inputWidgets": {},
     "nuid": "bc15712c-60a3-43c1-9745-6d238f206edc",
     "showTitle": false,
     "title": ""
    }
   },
   "outputs": [],
   "source": [
    "from etl import get_environment, PROJECT\n",
    "import logging"
   ]
  },
  {
   "cell_type": "code",
   "execution_count": 0,
   "metadata": {
    "application/vnd.databricks.v1+cell": {
     "cellMetadata": {
      "byteLimit": 2048000,
      "rowLimit": 10000
     },
     "inputWidgets": {},
     "nuid": "019e9059-18b3-4d5e-8017-3bdaffff090c",
     "showTitle": false,
     "title": ""
    }
   },
   "outputs": [],
   "source": [
    "logger = logging.getLogger(f\"finalise {PROJECT} process_id={process_id}\")\n",
    "env = get_environment(spark = spark).name\n",
    "catalog = f\"{env}_hub\"\n",
    "spark.sql(f\"USE CATALOG {catalog}\")\n",
    "logger.info(f\"default catalog set to {catalog}\")"
   ]
  },
  {
   "cell_type": "code",
   "execution_count": 0,
   "metadata": {
    "application/vnd.databricks.v1+cell": {
     "cellMetadata": {
      "byteLimit": 2048000,
      "implicitDf": true,
      "rowLimit": 10000
     },
     "inputWidgets": {},
     "nuid": "8d1095fd-e3c1-472a-8bb1-705e795670e0",
     "showTitle": false,
     "title": ""
    }
   },
   "outputs": [],
   "source": [
    "\n",
    "df = spark.sql(f\"\"\"\n",
    "select\n",
    "  snapshot_date,\n",
    "  `table`,\n",
    "  file_name,\n",
    "  file_size,\n",
    "  schema_valid,\n",
    "  total_count,\n",
    "  valid_count,\n",
    "  invalid_count,\n",
    "  invalid_ratio,     \n",
    "  process_id,\n",
    "  load_date\n",
    "from {catalog}.{PROJECT}._audit\n",
    "where process_id = {process_id}\n",
    "order by snapshot_date, `table`\n",
    "\"\"\")\n",
    "\n",
    "display(df)"
   ]
  },
  {
   "cell_type": "code",
   "execution_count": 0,
   "metadata": {
    "application/vnd.databricks.v1+cell": {
     "cellMetadata": {
      "byteLimit": 2048000,
      "rowLimit": 10000
     },
     "inputWidgets": {},
     "nuid": "177c4574-1186-4959-be49-5adc0461c05f",
     "showTitle": false,
     "title": ""
    }
   },
   "outputs": [],
   "source": [
    "df_failed = df.where(\"!schema_valid\")\n",
    "display(df_failed)"
   ]
  },
  {
   "cell_type": "code",
   "execution_count": 0,
   "metadata": {
    "application/vnd.databricks.v1+cell": {
     "cellMetadata": {
      "byteLimit": 2048000,
      "rowLimit": 10000
     },
     "inputWidgets": {},
     "nuid": "fe13eff5-78cb-49b9-b966-3628bd7f5434",
     "showTitle": false,
     "title": ""
    }
   },
   "outputs": [],
   "source": [
    "failed_count = df_failed.count()\n",
    "succeeded_count = df.count()\n",
    "\n",
    "if failed_count > 0 and hold_file_if_schema_failed:\n",
    "  msg = f\"ingest_{PROJECT} job to load {catalog}.{PROJECT} has {failed_count} file(s) with schema failures. See the finalisation step for details.\"\n",
    "  logger.error(msg)\n",
    "  raise Exception(msg)\n",
    "else:\n",
    "  f\"\"\"\n",
    "  UPDATE {catalog}.{PROJECT}._audit\n",
    "  SET hub_load_date = now()\n",
    "  WHERE process_id = {process_id}\n",
    "  \"\"\"\n",
    "  msg = f\"ingest_{PROJECT} job to load {catalog}.{PROJECT} has successfully loaded {succeeded_count} files.\"\n",
    "  dbutils.notebook.exit(msg)"
   ]
  }
 ],
 "metadata": {
  "application/vnd.databricks.v1+notebook": {
   "dashboards": [],
   "language": "python",
   "notebookMetadata": {
    "mostRecentlyExecutedCommandWithImplicitDF": {
     "commandId": -1,
     "dataframes": [
      "_sqldf"
     ]
    },
    "pythonIndentUnit": 2
   },
   "notebookName": "finalise",
   "widgets": {
    "process_id": {
     "currentValue": "-1",
     "nuid": "adba1006-d67d-4ba0-8164-00b12cdc3e4c",
     "widgetInfo": {
      "widgetType": "text",
      "defaultValue": "-1",
      "label": "process_id",
      "name": "process_id",
      "options": {
       "widgetType": "text",
       "autoCreated": null,
       "validationRegex": null
      }
     }
    }
   }
  },
  "language_info": {
   "name": "python"
  }
 },
 "nbformat": 4,
 "nbformat_minor": 0
}
